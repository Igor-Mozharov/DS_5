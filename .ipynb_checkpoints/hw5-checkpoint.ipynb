{
 "cells": [
  {
   "cell_type": "code",
   "execution_count": 1,
   "id": "680358a1",
   "metadata": {},
   "outputs": [],
   "source": [
    "import pandas as pd\n",
    "import numpy as np\n",
    "import os\n",
    "from sklearn.model_selection import train_test_split\n",
    "from sklearn.svm import SVC\n",
    "from  sklearn.ensemble import RandomForestClassifier"
   ]
  },
  {
   "cell_type": "code",
   "execution_count": 16,
   "id": "89860d5b",
   "metadata": {},
   "outputs": [],
   "source": [
    "file_path = '/home/igor8282/Desktop/Projects/DS_5/homework/data'"
   ]
  },
  {
   "cell_type": "code",
   "execution_count": 18,
   "id": "d9759edb",
   "metadata": {},
   "outputs": [],
   "source": [
    "def concat_to_df():\n",
    "    to_concate = []\n",
    "    for root, dirs, files in os.walk(file_path):\n",
    "        for file in files:\n",
    "            if file.startswith('idle'):\n",
    "                temp = pd.read_csv(file_path + '/idle/' + file)\n",
    "                temp['name'] = file.split('.')[0]\n",
    "                temp['activity'] = 'idle'\n",
    "                to_concate.append(temp)\n",
    "            elif file.startswith('running'):\n",
    "                temp = pd.read_csv(file_path + '/running/' + file)\n",
    "                temp['name'] = file.split('.')[0]\n",
    "                temp['activity'] = 'running'\n",
    "                to_concate.append(temp)\n",
    "            elif file.startswith('stairs'):\n",
    "                temp = pd.read_csv(file_path + '/stairs/' + file)\n",
    "                temp['name'] = file.split('.')[0]\n",
    "                temp['activity'] = 'stairs'\n",
    "                to_concate.append(temp)\n",
    "            else:\n",
    "                temp = pd.read_csv(file_path + '/walking/' + file)\n",
    "                temp['name'] = file.split('.')[0]\n",
    "                temp['activity'] = 'walking'\n",
    "                to_concate.append(temp)\n",
    "    return pd.concat(to_concate)"
   ]
  },
  {
   "cell_type": "code",
   "execution_count": 20,
   "id": "a2797d17",
   "metadata": {},
   "outputs": [],
   "source": [
    "df = concat_to_df()"
   ]
  },
  {
   "cell_type": "code",
   "execution_count": 23,
   "id": "440d4df2",
   "metadata": {},
   "outputs": [],
   "source": [
    "x_train, x_test, y_train, y_test = train_test_split(df.iloc[:, :3], df['activity'], train_size=0.2, shuffle=True)"
   ]
  },
  {
   "cell_type": "code",
   "execution_count": 24,
   "id": "409cffe6",
   "metadata": {},
   "outputs": [],
   "source": [
    "model_svc = SVC().fit(x_train, y_train)"
   ]
  },
  {
   "cell_type": "code",
   "execution_count": 28,
   "id": "aa27e3e3",
   "metadata": {},
   "outputs": [
    {
     "data": {
      "text/plain": [
       "0.889578819766842"
      ]
     },
     "execution_count": 28,
     "metadata": {},
     "output_type": "execute_result"
    }
   ],
   "source": [
    "model_svc.score(x_test, y_test)"
   ]
  },
  {
   "cell_type": "code",
   "execution_count": 29,
   "id": "55b15777",
   "metadata": {},
   "outputs": [
    {
     "data": {
      "text/plain": [
       "0.8915712369751367"
      ]
     },
     "execution_count": 29,
     "metadata": {},
     "output_type": "execute_result"
    }
   ],
   "source": [
    "model_svc.score(x_train, y_train)"
   ]
  },
  {
   "cell_type": "code",
   "execution_count": 26,
   "id": "14d370e3",
   "metadata": {},
   "outputs": [],
   "source": [
    "model_rfc = RandomForestClassifier().fit(x_train, y_train)"
   ]
  },
  {
   "cell_type": "code",
   "execution_count": 27,
   "id": "92595357",
   "metadata": {},
   "outputs": [
    {
     "data": {
      "text/plain": [
       "1.0"
      ]
     },
     "execution_count": 27,
     "metadata": {},
     "output_type": "execute_result"
    }
   ],
   "source": [
    "model_rfc.score(x_train, y_train)"
   ]
  },
  {
   "cell_type": "code",
   "execution_count": 30,
   "id": "02799f04",
   "metadata": {},
   "outputs": [
    {
     "data": {
      "text/plain": [
       "0.992791189518209"
      ]
     },
     "execution_count": 30,
     "metadata": {},
     "output_type": "execute_result"
    }
   ],
   "source": [
    "model_rfc.score(x_test, y_test)"
   ]
  },
  {
   "cell_type": "code",
   "execution_count": null,
   "id": "5a12c735",
   "metadata": {},
   "outputs": [],
   "source": []
  }
 ],
 "metadata": {
  "kernelspec": {
   "display_name": "Python 3 (ipykernel)",
   "language": "python",
   "name": "python3"
  },
  "language_info": {
   "codemirror_mode": {
    "name": "ipython",
    "version": 3
   },
   "file_extension": ".py",
   "mimetype": "text/x-python",
   "name": "python",
   "nbconvert_exporter": "python",
   "pygments_lexer": "ipython3",
   "version": "3.11.0rc1"
  }
 },
 "nbformat": 4,
 "nbformat_minor": 5
}
