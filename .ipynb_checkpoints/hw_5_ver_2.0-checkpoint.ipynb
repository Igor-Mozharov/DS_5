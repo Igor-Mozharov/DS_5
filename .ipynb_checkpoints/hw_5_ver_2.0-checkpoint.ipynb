{
 "cells": [
  {
   "cell_type": "code",
   "execution_count": 1,
   "id": "ec6296f4",
   "metadata": {},
   "outputs": [],
   "source": [
    "import pandas as pd\n",
    "import numpy as np\n",
    "import os\n",
    "from sklearn.model_selection import train_test_split\n",
    "from sklearn.svm import SVC\n",
    "from  sklearn.ensemble import RandomForestClassifier\n",
    "import scipy.stats as sstats\n",
    "\n",
    "file_path = '/home/igor8282/Desktop/Projects/DS_5/homework/data'"
   ]
  },
  {
   "cell_type": "code",
   "execution_count": 2,
   "id": "59ea79ba",
   "metadata": {},
   "outputs": [],
   "source": [
    "def prepare_data():\n",
    "    to_concate = []\n",
    "    for root, dirs, files in os.walk(file_path):\n",
    "        for file in files:\n",
    "            test_ = pd.read_csv(file_path + '/' + file.split('-')[0] + '/' + file)\n",
    "            new = pd.DataFrame()\n",
    "            new[['mean_x', 'mean_y', 'mean_z']] = [np.mean(test_, axis=0)]\n",
    "            new[['std_x', 'std_y', 'std_z']] = [np.std(test_, axis=0)]\n",
    "            new[['min_x', 'min_y', 'min_z']] = [np.min(test_, axis=0)]\n",
    "            new[['max_x', 'max_y', 'max_z']] = [np.max(test_, axis=0)]\n",
    "            new[['maxmin_diff_x', 'maxmin_diff_y', 'maxmin_diff_z']] = [np.max(test_, axis=0) - np.min(test_, axis=0)]\n",
    "            new[['median_x', 'median_y', 'median_z']] = [np.median(test_, axis=0)]\n",
    "            new[['iqua_x', 'ique_y', 'iqua_z']] = [np.percentile(test_, 75, axis=0) - np.percentile(test_, 23, axis=0)]\n",
    "            new[['negative_x', 'negative_y', 'negative_z']] = [np.sum(test_ < 0)]\n",
    "            new[['positive_x', 'positive_y', 'positive_z']] = [np.sum(test_ > 0)]\n",
    "            new[['van_x', 'van_y', 'van_z']] = [np.sum(test_ > np.mean(test_), axis=0)]\n",
    "            new[['skev_x', 'skev_y', 'skev_z']] = [sstats.skew(test_, axis=0)]\n",
    "            new[['kurt_x', 'kurt_y', 'kurt_z']] = [sstats.kurtosis(test_, axis=0)]\n",
    "            new[['ener_x', 'ener_y', 'ener_z']] = [np.sum(test_ ** 2) / 100]\n",
    "            new[['mad_x', 'mad_y', 'mad_z']] = [np.median(np.absolute(test_ - np.median(test_)), axis=0)]\n",
    "            new[['aad_x', 'aad_y', 'aad_z']] = [np.mean(np.absolute(test_ - np.mean(test_)), axis=0)]\n",
    "            new['activity'] = file.split('-')[0]\n",
    "            to_concate.append(new)\n",
    "    return pd.concat(to_concate, ignore_index=True)"
   ]
  },
  {
   "cell_type": "code",
   "execution_count": 3,
   "id": "aea31f1b",
   "metadata": {},
   "outputs": [],
   "source": [
    "res = prepare_data()\n",
    "\n",
    "x_train, x_test, y_train, y_test = train_test_split(res.iloc[:, :-1], res['activity'], train_size=0.2, shuffle=True)"
   ]
  },
  {
   "cell_type": "code",
   "execution_count": 4,
   "id": "633bb41f",
   "metadata": {},
   "outputs": [
    {
     "data": {
      "text/plain": [
       "0.978328173374613"
      ]
     },
     "execution_count": 4,
     "metadata": {},
     "output_type": "execute_result"
    }
   ],
   "source": [
    "model_svc = SVC().fit(x_train, y_train)\n",
    "model_svc.score(x_train, y_train)"
   ]
  },
  {
   "cell_type": "code",
   "execution_count": 5,
   "id": "cef48861",
   "metadata": {},
   "outputs": [
    {
     "data": {
      "text/plain": [
       "1.0"
      ]
     },
     "execution_count": 5,
     "metadata": {},
     "output_type": "execute_result"
    }
   ],
   "source": [
    "model_rfc = RandomForestClassifier().fit(x_train, y_train)\n",
    "model_rfc.score(x_train, y_train)"
   ]
  }
 ],
 "metadata": {
  "kernelspec": {
   "display_name": "Python 3 (ipykernel)",
   "language": "python",
   "name": "python3"
  },
  "language_info": {
   "codemirror_mode": {
    "name": "ipython",
    "version": 3
   },
   "file_extension": ".py",
   "mimetype": "text/x-python",
   "name": "python",
   "nbconvert_exporter": "python",
   "pygments_lexer": "ipython3",
   "version": "3.11.0rc1"
  }
 },
 "nbformat": 4,
 "nbformat_minor": 5
}
